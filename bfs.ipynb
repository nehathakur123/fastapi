{
  "cells": [
    {
      "cell_type": "markdown",
      "metadata": {
        "id": "view-in-github",
        "colab_type": "text"
      },
      "source": [
        "<a href=\"https://colab.research.google.com/github/nehathakur123/fastapi/blob/main/bfs.ipynb\" target=\"_parent\"><img src=\"https://colab.research.google.com/assets/colab-badge.svg\" alt=\"Open In Colab\"/></a>"
      ]
    },
    {
      "cell_type": "code",
      "execution_count": null,
      "metadata": {
        "id": "c_v9EMMyTJ6L"
      },
      "outputs": [],
      "source": [
        "import collections\n"
      ]
    },
    {
      "cell_type": "code",
      "execution_count": null,
      "metadata": {
        "id": "k9jekn35TpDH"
      },
      "outputs": [],
      "source": [
        "time_map1 = {\n",
        "    'Campus': {'Campus': None, 'Whole_Food': 1, 'Beach': 1, 'Cinema': None, 'Lighthouse': 1, 'Ryan_Field': None, 'YWCA': None},\n",
        "    'Whole_Food': {'Campus': 1, 'Whole_Food': None, 'Beach': 1, 'Cinema': 1, 'Lighthouse': None, 'Ryan_Field': None, 'YWCA': None},\n",
        "    'Beach': {'Campus': 1, 'Whole_Food': 1, 'Beach': None, 'Cinema': None, 'Lighthouse': None, 'Ryan_Field': None, 'YWCA': None},\n",
        "    'Cinema': {'Campus': None, 'Whole_Food': 1, 'Beach': None, 'Cinema': None, 'Lighthouse': None, 'Ryan_Field': None, 'YWCA': 1},\n",
        "    'Lighthouse': {'Campus': 1, 'Whole_Food': None, 'Beach': None, 'Cinema': None, 'Lighthouse': None, 'Ryan_Field': 1, 'YWCA': None},\n",
        "    'Ryan_Field': {'Campus': None, 'Whole_Food': None, 'Beach': None, 'Cinema': None, 'Lighthouse': 1, 'Ryan_Field': None, 'YWCA': 1},\n",
        "    'YWCA': {'Campus': None, 'Whole_Food': None, 'Beach': None, 'Cinema': 1, 'Lighthouse': None, 'Ryan_Field': 1, 'YWCA': None}\n",
        "}"
      ]
    },
    {
      "cell_type": "code",
      "source": [
        "\n",
        "# import student_code as sc\n",
        "import unittest\n",
        "# import expand\n",
        "import sys, signal\n",
        "\n",
        "time_map1 = {\n",
        "    'Campus': {'Campus': None, 'Whole_Food': 1, 'Beach': 1, 'Cinema': None, 'Lighthouse': 1, 'Ryan_Field': None, 'YWCA': None},\n",
        "    'Whole_Food': {'Campus': 1, 'Whole_Food': None, 'Beach': 1, 'Cinema': 1, 'Lighthouse': None, 'Ryan_Field': None, 'YWCA': None},\n",
        "    'Beach': {'Campus': 1, 'Whole_Food': 1, 'Beach': None, 'Cinema': None, 'Lighthouse': None, 'Ryan_Field': None, 'YWCA': None},\n",
        "    'Cinema': {'Campus': None, 'Whole_Food': 1, 'Beach': None, 'Cinema': None, 'Lighthouse': None, 'Ryan_Field': None, 'YWCA': 1},\n",
        "    'Lighthouse': {'Campus': 1, 'Whole_Food': None, 'Beach': None, 'Cinema': None, 'Lighthouse': None, 'Ryan_Field': 1, 'YWCA': None},\n",
        "    'Ryan_Field': {'Campus': None, 'Whole_Food': None, 'Beach': None, 'Cinema': None, 'Lighthouse': 1, 'Ryan_Field': None, 'YWCA': 1},\n",
        "    'YWCA': {'Campus': None, 'Whole_Food': None, 'Beach': None, 'Cinema': 1, 'Lighthouse': None, 'Ryan_Field': 1, 'YWCA': None}\n",
        "}\n",
        "\n",
        "def interrupt(a, b):\n",
        "    sys.exit(1)\n",
        "\n",
        "class UnitTests(unittest.TestCase):\n",
        "\n",
        "    def test1(self):\n",
        "        # signal.signal(signal.SIGALRM, interrupt)\n",
        "        # expand.expand_count = 0\n",
        "        # signal.alarm(5)\n",
        "        path = sc.breadth_first_search(time_map1, 'Campus', 'Ryan_Field')\n",
        "        #elf.assertEqual(path, ['Campus', 'Lighthouse', 'Ryan_Field'])\n",
        "\n",
        "if __name__== \"__main__\": unittest.main()\n"
      ],
      "metadata": {
        "colab": {
          "base_uri": "https://localhost:8080/",
          "height": 322
        },
        "id": "XZwuebqn3zyn",
        "outputId": "6a426ed7-26b5-49bd-9847-694b4e66b772"
      },
      "execution_count": null,
      "outputs": [
        {
          "output_type": "stream",
          "name": "stderr",
          "text": [
            "E\n",
            "======================================================================\n",
            "ERROR: /root/ (unittest.loader._FailedTest)\n",
            "----------------------------------------------------------------------\n",
            "AttributeError: module '__main__' has no attribute '/root/'\n",
            "\n",
            "----------------------------------------------------------------------\n",
            "Ran 1 test in 0.002s\n",
            "\n",
            "FAILED (errors=1)\n"
          ]
        },
        {
          "output_type": "error",
          "ename": "SystemExit",
          "evalue": "ignored",
          "traceback": [
            "An exception has occurred, use %tb to see the full traceback.\n",
            "\u001b[0;31mSystemExit\u001b[0m\u001b[0;31m:\u001b[0m True\n"
          ]
        },
        {
          "output_type": "stream",
          "name": "stderr",
          "text": [
            "/usr/local/lib/python3.7/dist-packages/IPython/core/interactiveshell.py:3334: UserWarning: To exit: use 'exit', 'quit', or Ctrl-D.\n",
            "  warn(\"To exit: use 'exit', 'quit', or Ctrl-D.\", stacklevel=1)\n"
          ]
        }
      ]
    },
    {
      "cell_type": "code",
      "execution_count": null,
      "metadata": {
        "colab": {
          "base_uri": "https://localhost:8080/"
        },
        "id": "AMQ8uB9i1jTf",
        "outputId": "e27f7c63-bc78-4dfe-c304-677155ffe5dd"
      },
      "outputs": [
        {
          "output_type": "stream",
          "name": "stdout",
          "text": [
            "Shortest path =  Campus Lighthouse Ryan_Field\n"
          ]
        }
      ],
      "source": [
        "#safe submission\n",
        "def BFS_SP(graph, start, goal):\n",
        "    explored = []\n",
        "     \n",
        "    \n",
        "    queue = [[start]]\n",
        "    \n",
        "    if start == goal:\n",
        "        print(\"Same Node\")\n",
        "        return\n",
        "    \n",
        "    \n",
        "    while queue:\n",
        "        path = queue.pop(0)\n",
        "       \n",
        "        node = path[-1]\n",
        "       \n",
        "         \n",
        "        \n",
        "       \n",
        "        if node not in explored:\n",
        "            neighbours = graph[node]\n",
        "            \n",
        "            \n",
        "            for neighbour ,value in neighbours.items():\n",
        "              if(value!=None):\n",
        "                \n",
        "                new_path = list(path)\n",
        "                \n",
        "                new_path.append(neighbour)\n",
        "                queue.append(new_path)\n",
        "                 \n",
        "                \n",
        "                if neighbour == goal:\n",
        "                    print(\"Shortest path = \", *new_path)\n",
        "                    return\n",
        "            explored.append(node)\n",
        " \n",
        "   \n",
        "    \n",
        "    return\n",
        " \n",
        "\n",
        "if __name__ == \"__main__\":\n",
        "     \n",
        "    \n",
        "    BFS_SP(time_map1, 'Campus', 'Ryan_Field')"
      ]
    },
    {
      "cell_type": "code",
      "execution_count": null,
      "metadata": {
        "colab": {
          "base_uri": "https://localhost:8080/"
        },
        "id": "Bdaqr4w9BExx",
        "outputId": "06c8e330-7fc6-4b55-8e19-ec125ddfbdf7"
      },
      "outputs": [
        {
          "name": "stdout",
          "output_type": "stream",
          "text": [
            "queue [['Campus']]\n",
            "path: ['Campus']\n",
            ".............\n",
            "node: Campus\n",
            ".............\n",
            "neighbours {'Campus': None, 'Whole_Food': 1, 'Beach': 1, 'Cinema': None, 'Lighthouse': 1, 'Ryan_Field': None, 'YWCA': None}\n",
            "1111111111\n",
            "new_path: ['Campus']\n",
            ".............\n",
            "new_path 22: ['Campus', 'Whole_Food']\n",
            "..................\n",
            "queue: [['Campus', 'Whole_Food']]\n",
            "...............\n",
            "new_path: ['Campus']\n",
            ".............\n",
            "new_path 22: ['Campus', 'Beach']\n",
            "..................\n",
            "queue: [['Campus', 'Whole_Food'], ['Campus', 'Beach']]\n",
            "...............\n",
            "new_path: ['Campus']\n",
            ".............\n",
            "new_path 22: ['Campus', 'Lighthouse']\n",
            "..................\n",
            "queue: [['Campus', 'Whole_Food'], ['Campus', 'Beach'], ['Campus', 'Lighthouse']]\n",
            "...............\n",
            "['Campus']\n",
            "path: ['Campus', 'Whole_Food']\n",
            ".............\n",
            "node: Whole_Food\n",
            ".............\n",
            "neighbours {'Campus': 1, 'Whole_Food': None, 'Beach': 1, 'Cinema': 1, 'Lighthouse': None, 'Ryan_Field': None, 'YWCA': None}\n",
            "1111111111\n",
            "new_path: ['Campus', 'Whole_Food']\n",
            ".............\n",
            "new_path 22: ['Campus', 'Whole_Food', 'Campus']\n",
            "..................\n",
            "queue: [['Campus', 'Beach'], ['Campus', 'Lighthouse'], ['Campus', 'Whole_Food', 'Campus']]\n",
            "...............\n",
            "new_path: ['Campus', 'Whole_Food']\n",
            ".............\n",
            "new_path 22: ['Campus', 'Whole_Food', 'Beach']\n",
            "..................\n",
            "queue: [['Campus', 'Beach'], ['Campus', 'Lighthouse'], ['Campus', 'Whole_Food', 'Campus'], ['Campus', 'Whole_Food', 'Beach']]\n",
            "...............\n",
            "new_path: ['Campus', 'Whole_Food']\n",
            ".............\n",
            "new_path 22: ['Campus', 'Whole_Food', 'Cinema']\n",
            "..................\n",
            "queue: [['Campus', 'Beach'], ['Campus', 'Lighthouse'], ['Campus', 'Whole_Food', 'Campus'], ['Campus', 'Whole_Food', 'Beach'], ['Campus', 'Whole_Food', 'Cinema']]\n",
            "...............\n",
            "['Campus', 'Whole_Food']\n",
            "path: ['Campus', 'Beach']\n",
            ".............\n",
            "node: Beach\n",
            ".............\n",
            "neighbours {'Campus': 1, 'Whole_Food': 1, 'Beach': None, 'Cinema': None, 'Lighthouse': None, 'Ryan_Field': None, 'YWCA': None}\n",
            "1111111111\n",
            "new_path: ['Campus', 'Beach']\n",
            ".............\n",
            "new_path 22: ['Campus', 'Beach', 'Campus']\n",
            "..................\n",
            "queue: [['Campus', 'Lighthouse'], ['Campus', 'Whole_Food', 'Campus'], ['Campus', 'Whole_Food', 'Beach'], ['Campus', 'Whole_Food', 'Cinema'], ['Campus', 'Beach', 'Campus']]\n",
            "...............\n",
            "new_path: ['Campus', 'Beach']\n",
            ".............\n",
            "new_path 22: ['Campus', 'Beach', 'Whole_Food']\n",
            "..................\n",
            "queue: [['Campus', 'Lighthouse'], ['Campus', 'Whole_Food', 'Campus'], ['Campus', 'Whole_Food', 'Beach'], ['Campus', 'Whole_Food', 'Cinema'], ['Campus', 'Beach', 'Campus'], ['Campus', 'Beach', 'Whole_Food']]\n",
            "...............\n",
            "['Campus', 'Whole_Food', 'Beach']\n",
            "path: ['Campus', 'Lighthouse']\n",
            ".............\n",
            "node: Lighthouse\n",
            ".............\n",
            "neighbours {'Campus': 1, 'Whole_Food': None, 'Beach': None, 'Cinema': None, 'Lighthouse': None, 'Ryan_Field': 1, 'YWCA': None}\n",
            "1111111111\n",
            "new_path: ['Campus', 'Lighthouse']\n",
            ".............\n",
            "new_path 22: ['Campus', 'Lighthouse', 'Campus']\n",
            "..................\n",
            "queue: [['Campus', 'Whole_Food', 'Campus'], ['Campus', 'Whole_Food', 'Beach'], ['Campus', 'Whole_Food', 'Cinema'], ['Campus', 'Beach', 'Campus'], ['Campus', 'Beach', 'Whole_Food'], ['Campus', 'Lighthouse', 'Campus']]\n",
            "...............\n",
            "new_path: ['Campus', 'Lighthouse']\n",
            ".............\n",
            "new_path 22: ['Campus', 'Lighthouse', 'Ryan_Field']\n",
            "..................\n",
            "queue: [['Campus', 'Whole_Food', 'Campus'], ['Campus', 'Whole_Food', 'Beach'], ['Campus', 'Whole_Food', 'Cinema'], ['Campus', 'Beach', 'Campus'], ['Campus', 'Beach', 'Whole_Food'], ['Campus', 'Lighthouse', 'Campus'], ['Campus', 'Lighthouse', 'Ryan_Field']]\n",
            "...............\n",
            "Shortest path =  Campus Lighthouse Ryan_Field\n"
          ]
        }
      ],
      "source": [
        "\n",
        "def BFS_SP(graph, start, goal):\n",
        "    explored = []\n",
        "     \n",
        "    \n",
        "    queue = [[start]]\n",
        "    print(\"queue\",queue)\n",
        "    \n",
        "    if start == goal:\n",
        "        print(\"Same Node\")\n",
        "        return\n",
        "    \n",
        "    \n",
        "    while queue:\n",
        "        path = queue.pop(0)\n",
        "        print(\"path:\",path)\n",
        "        print(\".............\")\n",
        "       \n",
        "        node = path[-1]\n",
        "        print(\"node:\",node)\n",
        "        print(\".............\")\n",
        "       \n",
        "        if node not in explored:\n",
        "            neighbours = graph[node]\n",
        "            print(\"neighbours\",neighbours)\n",
        "            print(\"1111111111\")\n",
        "            \n",
        "            \n",
        "            for neighbour ,value in neighbours.items():\n",
        "              if(value!=None):\n",
        "                \n",
        "                new_path = list(path)\n",
        "                print(\"new_path:\",new_path)\n",
        "                print(\".............\")\n",
        "                \n",
        "                new_path.append(neighbour)\n",
        "                print(\"new_path 22:\",new_path)\n",
        "                print(\"..................\")\n",
        "                queue.append(new_path)\n",
        "                print(\"queue:\",queue)\n",
        "                print(\"...............\")\n",
        "                 \n",
        "                \n",
        "\n",
        "\n",
        "\n",
        "                if neighbour == goal:\n",
        "                    print(\"Shortest path = \", *new_path)\n",
        "                    return\n",
        "            explored.append(node)\n",
        "            print(explored)\n",
        " \n",
        "   \n",
        "    \n",
        "    return\n",
        " \n",
        "\n",
        "if __name__ == \"__main__\":\n",
        "     \n",
        "    \n",
        "    BFS_SP(time_map1, 'Campus', 'Ryan_Field')"
      ]
    },
    {
      "cell_type": "code",
      "execution_count": null,
      "metadata": {
        "colab": {
          "base_uri": "https://localhost:8080/"
        },
        "id": "FoB3jUJza6xI",
        "outputId": "8a2ba68c-aaf5-45dd-e16d-43eb4998bff7"
      },
      "outputs": [
        {
          "name": "stdout",
          "output_type": "stream",
          "text": [
            "Campus Whole_Food Beach Lighthouse Cinema Ryan_Field "
          ]
        }
      ],
      "source": [
        "import unittest\n",
        "#simple logic \n",
        "def bfs(graph, start,goal):\n",
        "   visited = [start]\n",
        "   queue = [start]\n",
        "   if start==goal:\n",
        "     print(\"Same Node\")\n",
        "     return \n",
        "   while queue:\n",
        "       m = queue.pop(0)\n",
        "       print(m, end=\" \")\n",
        "       \n",
        "       if(m==goal):\n",
        "         return\n",
        "       if m in graph:\n",
        "           for neighbor , value in graph[m].items():\n",
        "             \n",
        "               if neighbor not in visited and value!=None:\n",
        "                visited.append(neighbor)\n",
        "                queue.append(neighbor)\n",
        "                \n",
        "                   \n",
        "  \n",
        "bfs(time_map1,'Campus','Ryan_Field')\n"
      ]
    },
    {
      "cell_type": "code",
      "execution_count": null,
      "metadata": {
        "id": "Pdi9d8FX2208"
      },
      "outputs": [],
      "source": [
        "time_mapT = {\n",
        "    'a': {'a': None, 'b': 1, 'c': 1, 'd': None, 'e': None, 'f': None, 'g': None, 'h': None, 'i': None, 'j': None, 'k': None},\n",
        "    'b': {'a': None, 'b': None, 'c': None, 'd': 1, 'e': 1, 'f': 1, 'g': None, 'h': None, 'i': None, 'j': None, 'k': None},\n",
        "    'c': {'a': None, 'b': None, 'c': None, 'd': None, 'e': None, 'f': None, 'g': 1, 'h': 1, 'i': None, 'j': None, 'k': None},\n",
        "    'd': {'a': None, 'b': None, 'c': None, 'd': None, 'e': None, 'f': None, 'g': None, 'h': None, 'i': None, 'j': None, 'k': None},\n",
        "    'e': {'a': None, 'b': None, 'c': None, 'd': None, 'e': None, 'f': None, 'g': None, 'h': None, 'i': None, 'j': None, 'k': None},\n",
        "    'f': {'a': None, 'b': None, 'c': None, 'd': None, 'e': None, 'f': None, 'g': None, 'h': None, 'i': 1, 'j': 1, 'k': None},\n",
        "    'g': {'a': None, 'b': None, 'c': None, 'd': None, 'e': None, 'f': None, 'g': None, 'h': None, 'i': None, 'j': None, 'k': None},\n",
        "    'h': {'a': None, 'b': None, 'c': None, 'd': None, 'e': 1, 'f': None, 'g': None, 'h': None, 'i': None, 'j': None, 'k': 1},\n",
        "    'i': {'a': None, 'b': None, 'c': None, 'd': None, 'e': None, 'f': None, 'g': None, 'h': None, 'i': None, 'j': None, 'k': None},\n",
        "    'j': {'a': None, 'b': None, 'c': None, 'd': None, 'e': None, 'f': None, 'g': None, 'h': None, 'i': None, 'j': None, 'k': None},\n",
        "    'k': {'a': None, 'b': None, 'c': None, 'd': None, 'e': None, 'f': None, 'g': None, 'h': None, 'i': None, 'j': None, 'k': None}\n",
        "}"
      ]
    },
    {
      "cell_type": "code",
      "execution_count": null,
      "metadata": {
        "id": "UaD5hxCH34dr"
      },
      "outputs": [],
      "source": [
        "adjacency_matrix = {1: [2, 3], 2: [4, 5],\n",
        "                    3: [5], 4: [6], 5: [6],\n",
        "                    6: [7], 7: []}"
      ]
    },
    {
      "cell_type": "code",
      "execution_count": null,
      "metadata": {
        "colab": {
          "base_uri": "https://localhost:8080/"
        },
        "id": "y-tB6N2fWABG",
        "outputId": "0145bf1b-04e2-4a12-dc4f-8166870c5de3"
      },
      "outputs": [
        {
          "name": "stdout",
          "output_type": "stream",
          "text": [
            "[1] []\n",
            "1\n",
            "path [1]\n",
            "stack: [2]\n",
            "stack: [2, 3]\n",
            "3\n",
            "path [1, 3]\n",
            "stack: [2, 5]\n",
            "5\n",
            "path [1, 3, 5]\n",
            "stack: [2, 6]\n",
            "6\n",
            "path [1, 3, 5, 6]\n",
            "stack: [2, 7]\n",
            "7\n",
            "path [1, 3, 5, 6, 7]\n",
            "2\n",
            "path [1, 3, 5, 6, 7, 2]\n",
            "stack: [4]\n",
            "stack: [4, 5]\n",
            "5\n",
            "4\n",
            "path [1, 3, 5, 6, 7, 2, 4]\n",
            "stack: [6]\n",
            "6\n",
            "[1, 3, 5, 6, 7, 2, 4]\n"
          ]
        }
      ],
      "source": [
        "def DFS_SP(graph, start, goal):\n",
        "    stack, path = [start], []\n",
        "    print(stack,path)\n",
        "\n",
        "    while stack:\n",
        "        vertex = stack.pop()\n",
        "        print(vertex)\n",
        "        if vertex in path:\n",
        "            continue\n",
        "        path.append(vertex)\n",
        "        print(\"path\",path)\n",
        "        for neighbor in graph[vertex]:\n",
        "            stack.append(neighbor)\n",
        "            print(\"stack:\",stack)\n",
        "\n",
        "    print(path) \n",
        "\n",
        "if __name__ == \"__main__\":\n",
        "     \n",
        "    \n",
        "    DFS_SP(adjacency_matrix, 1, 7)\n",
        "    # [['a', 'c', 'h', 'e'], ['a', 'b', 'e']]"
      ]
    },
    {
      "cell_type": "code",
      "execution_count": null,
      "metadata": {
        "colab": {
          "background_save": true
        },
        "id": "8VJQnkIE2-B3"
      },
      "outputs": [],
      "source": [
        "def DFS_SP(graph, start, goal):\n",
        "  stack = [start]\n",
        "  visited = set()\n",
        "  while stack:\n",
        "      vertex = stack.pop()\n",
        "      if vertex in visited:\n",
        "          continue\n",
        "      yield vertex\n",
        "      visited.add(vertex)\n",
        "      for neighbor in graph[vertex]:\n",
        "          stack.append(neighbor)\n",
        "  print(vertex) \n",
        "\n",
        "if __name__ == \"__main__\":\n",
        "     \n",
        "    \n",
        "  DFS_SP(time_mapT, 'a', 'e')"
      ]
    },
    {
      "cell_type": "code",
      "source": [
        "def depth_first_search(time_map, start, end):\n",
        "    \n",
        "    outerKeys2 = list(time_map.keys())\n",
        "    dictGraph2 = {}\n",
        "\n",
        "    for i in outerKeys2:\n",
        "        destination = expand(i, time_map)\n",
        "        if i in dictGraph2:\n",
        "            dictGraph2[i].append(destination)\n",
        "        else:\n",
        "            dictGraph2[i] = destination\n",
        "    \n",
        "    if start is None or start not in dictGraph2:\n",
        "        return \"Invalid start\"\n",
        "    \n",
        "    if end is None or end not in dictGraph2:\n",
        "        return \"Invalid end\"\n",
        "    \n",
        "    path = []\n",
        "    list_of_nodes = [start]\n",
        "\n",
        "    while len(list_of_nodes) != 0:\n",
        "        nodes = list_of_nodes.pop()\n",
        "        \n",
        "        if nodes not in path:\n",
        "            path.append(nodes)\n",
        "            \n",
        "        if nodes == end:\n",
        "            return path\n",
        "            \n",
        "        if nodes not in dictGraph2:\n",
        "            #leaf node\n",
        "            continue\n",
        "\n",
        "        for neighbor in dictGraph2[nodes]:\n",
        "            list_of_nodes.append(neighbor)\n",
        "\n",
        "    return \"Path does not exist\""
      ],
      "metadata": {
        "id": "Kxfp0XrKwrGl"
      },
      "execution_count": null,
      "outputs": []
    }
  ],
  "metadata": {
    "colab": {
      "collapsed_sections": [],
      "name": "bfs.ipynb",
      "provenance": [],
      "include_colab_link": true
    },
    "kernelspec": {
      "display_name": "Python 3",
      "name": "python3"
    },
    "language_info": {
      "name": "python"
    }
  },
  "nbformat": 4,
  "nbformat_minor": 0
}