{
  "cells": [
    {
      "cell_type": "markdown",
      "metadata": {
        "id": "view-in-github",
        "colab_type": "text"
      },
      "source": [
        "<a href=\"https://colab.research.google.com/github/nehathakur123/fastapi/blob/main/23PGAI0064.ipynb\" target=\"_parent\"><img src=\"https://colab.research.google.com/assets/colab-badge.svg\" alt=\"Open In Colab\"/></a>"
      ]
    },
    {
      "cell_type": "code",
      "execution_count": 38,
      "id": "d3f304cb-1d22-47c2-a197-9cb93fc51f34",
      "metadata": {
        "id": "d3f304cb-1d22-47c2-a197-9cb93fc51f34"
      },
      "outputs": [],
      "source": [
        "import numpy as np\n",
        "import pandas as pd\n",
        "import random\n",
        "np.random.seed(1234)"
      ]
    },
    {
      "cell_type": "code",
      "execution_count": 39,
      "id": "d52bcf5d-15b5-4e5a-9730-9ad9332c4111",
      "metadata": {
        "id": "d52bcf5d-15b5-4e5a-9730-9ad9332c4111"
      },
      "outputs": [],
      "source": [
        "def number_of_people_in_bus(iteration):\n",
        "    no_people_in_bus = 0\n",
        "    for _ in range(0, iteration):\n",
        "        if no_people_in_bus > 0:\n",
        "            for i in range(0, no_people_in_bus):\n",
        "                if np.random.random() <= 0.2:\n",
        "                    no_people_in_bus -= 1\n",
        "        climbing_prob = np.random.random()\n",
        "        if climbing_prob <= 0.5:\n",
        "            no_people_in_bus += 0\n",
        "        elif climbing_prob <= 0.9:\n",
        "            no_people_in_bus += 1\n",
        "        else:\n",
        "            no_people_in_bus += 2\n",
        "    return no_people_in_bus"
      ]
    },
    {
      "cell_type": "code",
      "execution_count": 40,
      "id": "4f4e734b-92e9-4c56-b79a-1e62a28e0e28",
      "metadata": {
        "id": "4f4e734b-92e9-4c56-b79a-1e62a28e0e28"
      },
      "outputs": [],
      "source": [
        "number_of_times = 100000\n",
        "passengers = [number_of_people_in_bus(10) for i in range(0, number_of_times)]\n",
        "empty_buses = list(filter(lambda a: a == 0, passengers))\n",
        "probability_of_empty_bus = len(empty_buses)/len(passengers)"
      ]
    },
    {
      "cell_type": "code",
      "execution_count": 37,
      "id": "50bd371b-9e04-4599-8384-dfac222b02e0",
      "metadata": {
        "colab": {
          "base_uri": "https://localhost:8080/"
        },
        "id": "50bd371b-9e04-4599-8384-dfac222b02e0",
        "outputId": "e5063529-de39-461c-b3c2-0f37e461bfb8"
      },
      "outputs": [
        {
          "output_type": "execute_result",
          "data": {
            "text/plain": [
              "0.05461"
            ]
          },
          "metadata": {},
          "execution_count": 37
        }
      ],
      "source": [
        "# following is answer\n",
        "probability_of_empty_bus"
      ]
    },
    {
      "cell_type": "code",
      "execution_count": null,
      "id": "ad716fc9-9601-4250-8df9-c7380ab41669",
      "metadata": {
        "id": "ad716fc9-9601-4250-8df9-c7380ab41669"
      },
      "outputs": [],
      "source": [
        ""
      ]
    },
    {
      "cell_type": "code",
      "execution_count": null,
      "id": "82110b39-a2b7-4bbd-9520-4ce85ba099ec",
      "metadata": {
        "id": "82110b39-a2b7-4bbd-9520-4ce85ba099ec"
      },
      "outputs": [],
      "source": [
        ""
      ]
    }
  ],
  "metadata": {
    "kernelspec": {
      "display_name": "Python 3 (ipykernel)",
      "language": "python",
      "name": "python3"
    },
    "language_info": {
      "codemirror_mode": {
        "name": "ipython",
        "version": 3
      },
      "file_extension": ".py",
      "mimetype": "text/x-python",
      "name": "python",
      "nbconvert_exporter": "python",
      "pygments_lexer": "ipython3",
      "version": "3.10.2"
    },
    "colab": {
      "name": "23PGAI0064.ipynb",
      "provenance": [],
      "include_colab_link": true
    }
  },
  "nbformat": 4,
  "nbformat_minor": 5
}